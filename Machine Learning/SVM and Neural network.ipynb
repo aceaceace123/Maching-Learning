{
 "cells": [
  {
   "attachments": {},
   "cell_type": "markdown",
   "metadata": {},
   "source": [
    "### NAME:徐騫諒 NO:711133112"
   ]
  },
  {
   "attachments": {},
   "cell_type": "markdown",
   "metadata": {},
   "source": [
    "## This job will be divided into two parts.\n",
    "- First, introduce some classification theories.\n",
    "- Second, implement with laboratory."
   ]
  },
  {
   "attachments": {},
   "cell_type": "markdown",
   "metadata": {},
   "source": [
    "### <font color=green>Introduce of Support vector machine</font>\n",
    "Sometimes we faced with non-linear class boundaries,so we can't use support vector classifier.Then we exten support vector classifier to support vector machine(SVM).This is a technique of enlarging the feature space in a specific way, using kernels.We want to use SVM to find the hyperplane that can classify different labels (y).The hyperplane can be writen :$$H:W^T \\phi(x)+b=0$$ where,w is that matrix representing the plane's parameters also the coefficient of x where x is the input data. b represents the intercept of the hyperplane.And we should optime to find w,  $W^*=\\mathop{argmax}\\limits_{W}\\frac{1}{\\|w\\|}[\\mathop{min}\\limits_{n}y_{n}[W^T \\phi(x)+b] ]$.\n",
    "\n",
    "$\\phi(\\cdot)$ is a kernels function,it can enlarge original data space to higher dimenesion.Some common kernels :\n",
    "- Linear kernel:$\\phi(x,x^*)=x\\cdot x'$.It usually solve binary category,because this kernel transform orginal data to 2-dimension.But it present poorly if we have more than two categorys.\n",
    "- Polynomial kernel:$\\phi(x,x^*)=(1+\\sum_{j=1}^{p}x_{ij}x^*_{ij})^d$,using the parameter 'd' can enlarge any dimenesion which depeond on our category.This kernel suit for some of condition that we can't classify on low dimenesion.In the same time,the parameter 'd' could determine by <font color=red>cross validation.</font>\n",
    "- Radial Basis Function:$\\phi(x,x^*)=\\exp(-\\gamma \\sum_{j=1}^{p}(x_{ij}-x^{*}_{ij})^2),\\gamma$ is a posite constant.The RBF kernel maps samples to an infinite-dimensional space, making it possible to find a linear boundary that separates the data with high accuracy in this space. The kernel trick is used to compute the inner products in the higher-dimensional space without actually computing the coordinates of the samples in that space.\n"
   ]
  },
  {
   "attachments": {},
   "cell_type": "markdown",
   "metadata": {},
   "source": [
    "### <font color=green>Introduce of some neural network alogrithms</font>\n",
    "The MLP algorithm is particularly useful for classification tasks, where the goal is to predict a discrete label based on a set of input features. The MLP consists of multiple layers of neurons, including an input layer, one or more hidden layers, and an output layer. Each neuron in the MLP is connected to neurons in the adjacent layers, and the weights of these connections are learned during the training process.There are some famous algorithm in MLPClassifier.\n",
    "- LBFGS（Limited-memory Broyden-Fletcher-Goldfarb-Shanno）:$$x_{k+1}=x_{k}-\\alpha_{k}H_{k}g_{k} $$\n",
    "where $\\alpha_k$ is the step length, $g_k$ is the gradient, and $H_k$ is the inverse estimate of the Hessian matrix calculated from the differences between past gradients and positions.\n",
    "The basic idea of LBFGS is to restrict the storage of past gradients and position differences in BFGS, thereby avoiding the need to store large matrices.<font color=blue> This solver is a good choice for small datasets, but may have difficulty scaling to larger datasets.</font>\n",
    "- Stochastic Gradient Descent(SGD):$$w_{t+1} = w_t - \\eta \\nabla Q_i(w_t, x_i, y_i)$$\n",
    " where $w_t$ represents the weight at the $t$-th iteration, $\\eta$ is the learning rate, and $\\nabla Q_i(w_t, x_i, y_i)$ is the gradient of the loss function, usually calculated based on a single sample $i$.SGD updates the parameters of the model in each iteration by taking small steps in the direction of the negative gradient of the objective function evaluated on a single sample or a mini-batch of samples from the training data.<font color=blue> This solver is often used for large datasets, but may require more hyperparameter tuning than other solvers.</font>\n",
    " - Adaptive Moment Estimation(ADAM):$$w_{t+1}=w_{t}-\\frac{\\eta}{\\sqrt{\\hat{v}_t}+\\epsilon}\\hat{m}_t$$\n",
    " where $w_t$ represents the weights in the $t^{th}$ iteration, $\\eta$ represents the learning rate, $\\hat{m}_t$ and $\\hat{v}_t$ are the bias-corrected estimates of the first and second moments of the gradients, respectively, and $\\epsilon$ is a small number, typically set to $10^{-8}$.The Adam algorithm is based on the first-order moment estimate of gradients, also known as momentum, and the second-order moment estimate of gradients, which is the exponentially weighted average of the square of gradients. Specifically, it maintains a momentum vector $m_t$ and a exponentially weighted average vector of squared gradients $v_t$, and uses them to update the weights. <font color=blue> It has been shown to work well on a wide range of problems, and is often the default choice for MLPClassifier.</font>"
   ]
  },
  {
   "attachments": {},
   "cell_type": "markdown",
   "metadata": {},
   "source": [
    "### <font color=green>Introduce algorithms in LogisticRegression</font>\n",
    "- LBFGS:we had introduced before.\n",
    "- newton-cg(Newton-Conjugate-Gradient method):$$w_{k+1}=w_k+\\alpha_k d_k$$\n",
    "Here, $w_k$ is the parameter vector at the $k$-th iteration, $\\alpha_k$ is the step size (learning rate), and $d_k$ is the computed descent direction. The formula for calculating $d_k$ is as follows:$$d_k=-(\\nabla^2 Q(w_k))^{-1} \\nabla Q(w_k)$$ \n",
    "Here, $\\nabla Q(w_k)$ is the gradient of the loss function, and $\\nabla^2 Q(w_k)$ is the Hessian matrix of the loss function. In the Newton-CG algorithm, to avoid computing the inverse of the Hessian matrix, the quasi-Newton method of BFGS or L-BFGS is generally used to approximate the inverse matrix and obtain the descent direction $d_k$.<font color=blue>However, due to the need to calculate the inverse matrix of the second-order derivative matrix, it may be relatively slow when dealing with large-scale datasets,only applicable for binary classification problems and does not support multi-class classification.</font>\n",
    "- Liblinear(A Library for Large Linear Classification):$$min_{w}\\frac{1}{2}||w||^2+C\\sum_{i=1}^{n}max(0,1-y_i(w^Tx_i+b))$$ \n",
    "where $w$ is the parameter vector, $b$ is the bias term, $C$ is the regularization parameter, and $y_i$ and $x_i$ represent the label and feature vector of the $i$-th sample, respectively. <font color=blue>Cause it supports both L1 and L2 regularization, can handle a large number of samples and high-dimensional features, and provides multiple optimization algorithms.</font>"
   ]
  },
  {
   "attachments": {},
   "cell_type": "markdown",
   "metadata": {},
   "source": [
    "### This part, I will tell some<font color=#9999FF> common functions </font> in our work.\n",
    "- accuracy_score( ) : this function will return the fraction of correctly classified samples.\n",
    "- score( ) : this function will return the mean accuracy on the given test data and labels.\n",
    "- classification_report( ):this function will build a text report showing the main classification metrics.  \n",
    "Under the text report,there ars some important scores for classify.\n",
    "\n",
    "\n",
    "    - support :represent sample labels in reality.\n",
    "    - recall :caculate how many predictions for $x$ are actually in the $x$ class.\n",
    "    - precision :caculate how many samples predicted as x were correctly predicted as x.\n",
    "    - f1-score : 2 * precision * recall /(precision+recall)\n",
    "    - macro avg :(sum of rach precision)/(num of labels)\n",
    "    - weighted avg :use support as weight to caculate weighted mean.\n",
    " "
   ]
  },
  {
   "attachments": {},
   "cell_type": "markdown",
   "metadata": {},
   "source": [
    "## Laboratory"
   ]
  },
  {
   "attachments": {},
   "cell_type": "markdown",
   "metadata": {},
   "source": [
    "### Import Packages "
   ]
  },
  {
   "cell_type": "code",
   "execution_count": 1,
   "metadata": {},
   "outputs": [],
   "source": [
    "import pandas as pd\n",
    "import numpy as np\n",
    "from numpy.linalg import eig  \n",
    "import matplotlib.pyplot as plt\n",
    "from sklearn.preprocessing import StandardScaler   \n",
    "from sklearn.model_selection import train_test_split\n",
    "from sklearn.linear_model import LogisticRegression\n",
    "from sklearn.metrics import accuracy_score  \n",
    "from sklearn.metrics import classification_report\n",
    "from sklearn.decomposition import PCA    \n",
    "from sklearn.svm import SVC,LinearSVC,LinearSVR\n",
    "from sklearn.neural_network import MLPClassifier\n",
    "from sklearn.metrics import confusion_matrix, ConfusionMatrixDisplay"
   ]
  },
  {
   "attachments": {},
   "cell_type": "markdown",
   "metadata": {},
   "source": [
    "### Import Data"
   ]
  },
  {
   "cell_type": "code",
   "execution_count": 67,
   "metadata": {},
   "outputs": [],
   "source": [
    "df = pd.read_excel('/Users/liang/Documents/NTPU/淺度機器學習/資料集/Wine.xlsx')\n",
    "X = np.array(df.iloc[:, :-1]) # drop the last variable(y) \n",
    "y = np.array(df.iloc[:, -1])"
   ]
  },
  {
   "cell_type": "code",
   "execution_count": 49,
   "metadata": {},
   "outputs": [
    {
     "data": {
      "text/html": [
       "<div>\n",
       "<style scoped>\n",
       "    .dataframe tbody tr th:only-of-type {\n",
       "        vertical-align: middle;\n",
       "    }\n",
       "\n",
       "    .dataframe tbody tr th {\n",
       "        vertical-align: top;\n",
       "    }\n",
       "\n",
       "    .dataframe thead th {\n",
       "        text-align: right;\n",
       "    }\n",
       "</style>\n",
       "<table border=\"1\" class=\"dataframe\">\n",
       "  <thead>\n",
       "    <tr style=\"text-align: right;\">\n",
       "      <th></th>\n",
       "      <th>Alcohol</th>\n",
       "      <th>Malic_Acid</th>\n",
       "      <th>Ash</th>\n",
       "      <th>Ash_Alcanity</th>\n",
       "      <th>Magnesium</th>\n",
       "      <th>Total_Phenols</th>\n",
       "      <th>Flavanoids</th>\n",
       "      <th>Nonflavanoid_Phenols</th>\n",
       "      <th>Proanthocyanins</th>\n",
       "      <th>Color_Intensity</th>\n",
       "      <th>Hue</th>\n",
       "      <th>OD280</th>\n",
       "      <th>Proline</th>\n",
       "      <th>Customer_Segment</th>\n",
       "    </tr>\n",
       "  </thead>\n",
       "  <tbody>\n",
       "    <tr>\n",
       "      <th>0</th>\n",
       "      <td>14.23</td>\n",
       "      <td>1.71</td>\n",
       "      <td>2.43</td>\n",
       "      <td>15.6</td>\n",
       "      <td>127</td>\n",
       "      <td>2.80</td>\n",
       "      <td>3.06</td>\n",
       "      <td>0.28</td>\n",
       "      <td>2.29</td>\n",
       "      <td>5.64</td>\n",
       "      <td>1.04</td>\n",
       "      <td>3.92</td>\n",
       "      <td>1065</td>\n",
       "      <td>1</td>\n",
       "    </tr>\n",
       "    <tr>\n",
       "      <th>1</th>\n",
       "      <td>13.20</td>\n",
       "      <td>1.78</td>\n",
       "      <td>2.14</td>\n",
       "      <td>11.2</td>\n",
       "      <td>100</td>\n",
       "      <td>2.65</td>\n",
       "      <td>2.76</td>\n",
       "      <td>0.26</td>\n",
       "      <td>1.28</td>\n",
       "      <td>4.38</td>\n",
       "      <td>1.05</td>\n",
       "      <td>3.40</td>\n",
       "      <td>1050</td>\n",
       "      <td>1</td>\n",
       "    </tr>\n",
       "    <tr>\n",
       "      <th>2</th>\n",
       "      <td>13.16</td>\n",
       "      <td>2.36</td>\n",
       "      <td>2.67</td>\n",
       "      <td>18.6</td>\n",
       "      <td>101</td>\n",
       "      <td>2.80</td>\n",
       "      <td>3.24</td>\n",
       "      <td>0.30</td>\n",
       "      <td>2.81</td>\n",
       "      <td>5.68</td>\n",
       "      <td>1.03</td>\n",
       "      <td>3.17</td>\n",
       "      <td>1185</td>\n",
       "      <td>1</td>\n",
       "    </tr>\n",
       "    <tr>\n",
       "      <th>3</th>\n",
       "      <td>14.37</td>\n",
       "      <td>1.95</td>\n",
       "      <td>2.50</td>\n",
       "      <td>16.8</td>\n",
       "      <td>113</td>\n",
       "      <td>3.85</td>\n",
       "      <td>3.49</td>\n",
       "      <td>0.24</td>\n",
       "      <td>2.18</td>\n",
       "      <td>7.80</td>\n",
       "      <td>0.86</td>\n",
       "      <td>3.45</td>\n",
       "      <td>1480</td>\n",
       "      <td>1</td>\n",
       "    </tr>\n",
       "    <tr>\n",
       "      <th>4</th>\n",
       "      <td>13.24</td>\n",
       "      <td>2.59</td>\n",
       "      <td>2.87</td>\n",
       "      <td>21.0</td>\n",
       "      <td>118</td>\n",
       "      <td>2.80</td>\n",
       "      <td>2.69</td>\n",
       "      <td>0.39</td>\n",
       "      <td>1.82</td>\n",
       "      <td>4.32</td>\n",
       "      <td>1.04</td>\n",
       "      <td>2.93</td>\n",
       "      <td>735</td>\n",
       "      <td>1</td>\n",
       "    </tr>\n",
       "  </tbody>\n",
       "</table>\n",
       "</div>"
      ],
      "text/plain": [
       "   Alcohol  Malic_Acid   Ash  Ash_Alcanity  Magnesium  Total_Phenols  \\\n",
       "0    14.23        1.71  2.43          15.6        127           2.80   \n",
       "1    13.20        1.78  2.14          11.2        100           2.65   \n",
       "2    13.16        2.36  2.67          18.6        101           2.80   \n",
       "3    14.37        1.95  2.50          16.8        113           3.85   \n",
       "4    13.24        2.59  2.87          21.0        118           2.80   \n",
       "\n",
       "   Flavanoids  Nonflavanoid_Phenols  Proanthocyanins  Color_Intensity   Hue  \\\n",
       "0        3.06                  0.28             2.29             5.64  1.04   \n",
       "1        2.76                  0.26             1.28             4.38  1.05   \n",
       "2        3.24                  0.30             2.81             5.68  1.03   \n",
       "3        3.49                  0.24             2.18             7.80  0.86   \n",
       "4        2.69                  0.39             1.82             4.32  1.04   \n",
       "\n",
       "   OD280  Proline  Customer_Segment  \n",
       "0   3.92     1065                 1  \n",
       "1   3.40     1050                 1  \n",
       "2   3.17     1185                 1  \n",
       "3   3.45     1480                 1  \n",
       "4   2.93      735                 1  "
      ]
     },
     "execution_count": 49,
     "metadata": {},
     "output_type": "execute_result"
    }
   ],
   "source": [
    "df.head()"
   ]
  },
  {
   "attachments": {},
   "cell_type": "markdown",
   "metadata": {},
   "source": [
    "## Split data into training and testing data"
   ]
  },
  {
   "cell_type": "code",
   "execution_count": 50,
   "metadata": {},
   "outputs": [],
   "source": [
    "X_train, X_test, y_train, y_test = train_test_split(X, y, test_size=0.30)#每次執行的結果會不一樣"
   ]
  },
  {
   "attachments": {},
   "cell_type": "markdown",
   "metadata": {},
   "source": [
    "## Standardize data"
   ]
  },
  {
   "cell_type": "code",
   "execution_count": 70,
   "metadata": {},
   "outputs": [
    {
     "data": {
      "image/png": "[encoded data removed]",
      "text/plain": [
       "<Figure size 720x720 with 1 Axes>"
      ]
     },
     "metadata": {
      "needs_background": "light"
     },
     "output_type": "display_data"
    }
   ],
   "source": [
    "variables = df.columns\n",
    "df=np.array(df)\n",
    "fig, ax = plt.subplots(figsize=(10, 10))\n",
    "boxprops = dict(linestyle='--', linewidth=1, color='#00FFFF')#darkgoldenrod\n",
    "medianprops = dict(linestyle='-', linewidth=1.5, color='#FBDD7E')\n",
    "flierprops = dict(marker='o', markerfacecolor='#ADD8E6',\n",
    "                  markersize=4, linestyle='none')\n",
    "ax.boxplot(df[:, 0:13], boxprops=boxprops,\n",
    "           flierprops=flierprops, labels=variables[0:13],medianprops=medianprops, vert=True)\n",
    "ax.set_xlabel('Values')\n",
    "plt.xticks(rotation=45) \n",
    "plt.show()"
   ]
  },
  {
   "attachments": {},
   "cell_type": "markdown",
   "metadata": {},
   "source": [
    "<sol\\>We can see that ranges of each variable are significant different.So we decide to standard orginal data."
   ]
  },
  {
   "cell_type": "code",
   "execution_count": 52,
   "metadata": {},
   "outputs": [],
   "source": [
    "scaler = StandardScaler()\n",
    "X_train_ = scaler.fit_transform(X_train)\n",
    "X_test_ = scaler.fit_transform(X_test)"
   ]
  },
  {
   "attachments": {},
   "cell_type": "markdown",
   "metadata": {},
   "source": [
    "## Observe the interesting variable(Customer_Segment) that we want to classify."
   ]
  },
  {
   "cell_type": "code",
   "execution_count": 53,
   "metadata": {},
   "outputs": [
    {
     "data": {
      "image/png": "[encoded data removed]",
      "text/plain": [
       "<Figure size 720x720 with 1 Axes>"
      ]
     },
     "metadata": {
      "needs_background": "light"
     },
     "output_type": "display_data"
    }
   ],
   "source": [
    "scaler = StandardScaler()\n",
    "# Compute the mean and std to be used for later scaling.\n",
    "scaler.fit(df)\n",
    "# Apply transform to dataset.\n",
    "ratings_ = scaler.transform(df)\n",
    "Sx = np.cov(ratings_[:, 0:13].T)\n",
    "w, v = eig(Sx)\n",
    "idx = np.argsort(w)[::-1]  \n",
    "eigvals = w[idx]\n",
    "eigvecs = v[:, idx]\n",
    "Z = eigvecs.T @ ratings_[:, 0:13].T\n",
    "pca_fit = PCA().fit_transform(ratings_[:, 0:13])\n",
    "fig, ax = plt.subplots(1, figsize=(10, 10), squeeze=False)\n",
    "colors = ['#069AF3', '#7FFFD4', '#FF4500']\n",
    "df = pd.DataFrame(df)\n",
    "labels = df.iloc[:, -1].unique()\n",
    "markers = ['p', '*', 'd']\n",
    "for i, label in enumerate(labels):\n",
    "    mask = df.iloc[:, -1] == label  \n",
    "    ax[0][0].scatter(pca_fit[mask, 0], pca_fit[mask, 1], c=colors[i], label=\"class={}\".format(\n",
    "        i+1), alpha=0.8, edgecolors='black', marker=markers[i], s=65)\n",
    "    ax[0][0].set_aspect(1)\n",
    "    ax[0][0].spines['left'].set_position(('data', 0))\n",
    "    ax[0][0].spines['bottom'].set_position(('data', 0))\n",
    "    ax[0][0].spines['top'].set_visible(False)\n",
    "    ax[0][0].spines['right'].set_visible(False)  \n",
    "    ax[0][0].legend(borderpad=1.5, labelspacing=1.5)\n",
    "ax[0][0].grid()\n",
    "ax[0][0].text(4, -0.5, '$Z_1$', color='r')\n",
    "ax[0][0].text(-0.5, 3.8, '$Z_2$', color='r')\n",
    "plt.title('$Z_1$ vs. $Z_2$')\n",
    "plt.show()\n"
   ]
  },
  {
   "attachments": {},
   "cell_type": "markdown",
   "metadata": {},
   "source": [
    "<sol\\>We can't easily use a line to classify three groups."
   ]
  },
  {
   "attachments": {},
   "cell_type": "markdown",
   "metadata": {},
   "source": [
    "## use orginal data to train the logistic regression model"
   ]
  },
  {
   "cell_type": "code",
   "execution_count": 72,
   "metadata": {},
   "outputs": [
    {
     "name": "stdout",
     "output_type": "stream",
     "text": [
      "accuracy for test data under lbfgs:96.30%\n",
      "              precision    recall  f1-score   support\n",
      "\n",
      "           1       1.00      1.00      1.00        19\n",
      "           2       0.90      1.00      0.95        18\n",
      "           3       1.00      0.88      0.94        17\n",
      "\n",
      "    accuracy                           0.96        54\n",
      "   macro avg       0.97      0.96      0.96        54\n",
      "weighted avg       0.97      0.96      0.96        54\n",
      "\n",
      "accuracy for test data under newtoncg:96.30%\n",
      "              precision    recall  f1-score   support\n",
      "\n",
      "           1       1.00      1.00      1.00        19\n",
      "           2       0.90      1.00      0.95        18\n",
      "           3       1.00      0.88      0.94        17\n",
      "\n",
      "    accuracy                           0.96        54\n",
      "   macro avg       0.97      0.96      0.96        54\n",
      "weighted avg       0.97      0.96      0.96        54\n",
      "\n",
      "accuracy for test data under liblinear:98.15%\n",
      "              precision    recall  f1-score   support\n",
      "\n",
      "           1       1.00      1.00      1.00        19\n",
      "           2       0.95      1.00      0.97        18\n",
      "           3       1.00      0.94      0.97        17\n",
      "\n",
      "    accuracy                           0.98        54\n",
      "   macro avg       0.98      0.98      0.98        54\n",
      "weighted avg       0.98      0.98      0.98        54\n",
      "\n"
     ]
    }
   ],
   "source": [
    "opts = dict(tol = 1e-6, max_iter = int(1e6), verbose=0) #1e6=10^6,verbose=0 show the process\n",
    "clf_original_lbfgs= LogisticRegression(solver = 'lbfgs', **opts)# default\n",
    "clf_original_newtoncg= LogisticRegression(solver = 'newton-cg', **opts)\n",
    "clf_original_liblin= LogisticRegression(solver = 'liblinear', **opts)\n",
    "clf_original_lbfgs.fit(X_train_, y_train)\n",
    "y_pred = clf_original_lbfgs.predict(X_test_)\n",
    "# print(f'{accuracy_score(y_test, y_pred):.2%}\\n')\n",
    "print('accuracy for test data under lbfgs:{:.2f}%'.format(100*clf_original_lbfgs.score(X_test_,y_test)))  \n",
    "print(classification_report(y_test, y_pred))\n",
    "clf_original_newtoncg.fit(X_train_, y_train)\n",
    "y_preds = clf_original_newtoncg.predict(X_test_) \n",
    "print('accuracy for test data under newtoncg:{:.2f}%'.format(100*clf_original_newtoncg.score(X_test_,y_test)))\n",
    "print(classification_report(y_test, y_preds))\n",
    "clf_original_liblin.fit(X_train_, y_train)\n",
    "y_predss = clf_original_liblin.predict(X_test_)\n",
    "print('accuracy for test data under liblinear:{:.2f}%'.format(100*clf_original_liblin.score(X_test_,y_test)))\n",
    "print(classification_report(y_test, y_predss))"
   ]
  },
  {
   "attachments": {},
   "cell_type": "markdown",
   "metadata": {},
   "source": [
    "<sol\\>As we can observe ,that liblinear algorithm score highest percentage(98.15%).Comparing to lbfgs and newtoncg algorithms,liblinear use penalty to penaly the disclassification.But, three of algorithms have a high percentage at the same time. "
   ]
  },
  {
   "cell_type": "code",
   "execution_count": 76,
   "metadata": {},
   "outputs": [
    {
     "data": {
      "image/png": "[encoded data removed]",
      "text/plain": [
       "<Figure size 432x288 with 2 Axes>"
      ]
     },
     "metadata": {
      "needs_background": "light"
     },
     "output_type": "display_data"
    },
    {
     "data": {
      "image/png": "[encoded data removed]",
      "text/plain": [
       "<Figure size 432x288 with 2 Axes>"
      ]
     },
     "metadata": {
      "needs_background": "light"
     },
     "output_type": "display_data"
    },
    {
     "data": {
      "image/png": "[encoded data removed]",
      "text/plain": [
       "<Figure size 432x288 with 2 Axes>"
      ]
     },
     "metadata": {
      "needs_background": "light"
     },
     "output_type": "display_data"
    }
   ],
   "source": [
    "title1='Testing score={:.2f}%'.format(100*clf_original_lbfgs.score(X_test_,y_test))\n",
    "disp=ConfusionMatrixDisplay.from_estimator(\n",
    "clf_original_lbfgs,\n",
    "X_test,\n",
    "y_test,\n",
    "cmap=plt.cm.Blues,\n",
    "normalize='true',)\n",
    "disp.ax_.set_title(title1)\n",
    "plt.show()\n",
    "title2='Testing score={:.2f}%'.format(100*clf_original_newtoncg.score(X_test_,y_test))\n",
    "disp=ConfusionMatrixDisplay.from_estimator(\n",
    "clf_original_newtoncg,\n",
    "X_test,\n",
    "y_test,\n",
    "cmap=plt.cm.cividis,\n",
    "normalize='true',)\n",
    "disp.ax_.set_title(title2)\n",
    "plt.show()\n",
    "title3='Testing score={:.2f}%'.format(100*clf_original_liblin.score(X_test_,y_test))\n",
    "disp=ConfusionMatrixDisplay.from_estimator(\n",
    "clf_original_liblin,\n",
    "X_test,\n",
    "y_test,\n",
    "cmap=plt.cm.YlOrRd,\n",
    "normalize='true',)\n",
    "disp.ax_.set_title(title3)\n",
    "plt.show()"
   ]
  },
  {
   "attachments": {},
   "cell_type": "markdown",
   "metadata": {},
   "source": [
    "<sol\\>We can also use confusion matrix to visuaul classification.Above three confusion matrixs,three of algorithms suit for this data. "
   ]
  },
  {
   "attachments": {},
   "cell_type": "markdown",
   "metadata": {},
   "source": [
    "## use orginal data to train the support vector machine model"
   ]
  },
  {
   "cell_type": "code",
   "execution_count": 55,
   "metadata": {},
   "outputs": [
    {
     "name": "stdout",
     "output_type": "stream",
     "text": [
      "accuracy for test data under linear:92.59%\n",
      "              precision    recall  f1-score   support\n",
      "\n",
      "           1       0.95      1.00      0.97        19\n",
      "           2       0.85      0.94      0.89        18\n",
      "           3       1.00      0.82      0.90        17\n",
      "\n",
      "    accuracy                           0.93        54\n",
      "   macro avg       0.93      0.92      0.92        54\n",
      "weighted avg       0.93      0.93      0.93        54\n",
      "\n",
      "accuracy for test data under rbf:96.30%\n",
      "              precision    recall  f1-score   support\n",
      "\n",
      "           1       1.00      1.00      1.00        19\n",
      "           2       0.90      1.00      0.95        18\n",
      "           3       1.00      0.88      0.94        17\n",
      "\n",
      "    accuracy                           0.96        54\n",
      "   macro avg       0.97      0.96      0.96        54\n",
      "weighted avg       0.97      0.96      0.96        54\n",
      "\n",
      "accuracy for test data under poly:90.74%\n",
      "              precision    recall  f1-score   support\n",
      "\n",
      "           1       1.00      0.84      0.91        19\n",
      "           2       0.78      1.00      0.88        18\n",
      "           3       1.00      0.88      0.94        17\n",
      "\n",
      "    accuracy                           0.91        54\n",
      "   macro avg       0.93      0.91      0.91        54\n",
      "weighted avg       0.93      0.91      0.91        54\n",
      "\n"
     ]
    }
   ],
   "source": [
    "C=1\n",
    "opts=dict(C=C,tol=1e-6,max_iter=int(1e6))\n",
    "# opts=dict(C=C,decision_function_shape='ovo',tol=1e-6,max_iter=int(1e6))\n",
    "clf_svm_linear=SVC(kernel='linear',**opts)\n",
    "clf_svm_rbf=SVC(kernel='rbf',gamma=0.2,**opts)\n",
    "clf_svm_poly=SVC(kernel='poly',degree=3,**opts)\n",
    "# clf_svm=LinearSVC(**opts) #one vs the rest\n",
    "clf_svm_linear.fit(X_train_,y_train)\n",
    "predictions=clf_svm_linear.predict(X_test_)\n",
    "print('accuracy for test data under linear:{:.2f}%'.format(100*clf_svm_linear.score(X_test_,y_test)))\n",
    "print(classification_report(y_test,predictions))\n",
    "clf_svm_rbf.fit(X_train_,y_train)\n",
    "predictions=clf_svm_rbf.predict(X_test_)\n",
    "print('accuracy for test data under rbf:{:.2f}%'.format(100*clf_svm_rbf.score(X_test_,y_test)))\n",
    "print(classification_report(y_test,predictions))\n",
    "clf_svm_poly.fit(X_train_,y_train)\n",
    "predictions=clf_svm_poly.predict(X_test_)\n",
    "print('accuracy for test data under poly:{:.2f}%'.format(100*clf_svm_poly.score(X_test_,y_test)))\n",
    "print(classification_report(y_test,predictions))"
   ]
  },
  {
   "attachments": {},
   "cell_type": "markdown",
   "metadata": {},
   "source": [
    "<sol\\>Under support vector machine,rbf kernel function have the highest percentage(96.30%).My point is that rbf kernel maps samples to an infinite-dimensional space,so it can easily classify in high dimension."
   ]
  },
  {
   "cell_type": "code",
   "execution_count": 56,
   "metadata": {},
   "outputs": [
    {
     "name": "stdout",
     "output_type": "stream",
     "text": [
      "(54,)\n",
      "[2 3 3 1 1 3 3 2 2 1 1 1 1 3 2 2 2 2 2 2 3 1 2 1 2 2 2 2 3 3 2 2 3 3 1 2 2\n",
      " 2 2 1 1 1 1 3 1 3 1 2 1 3 3 3 2 2]\n",
      "[2 3 3 1 1 3 3 1 2 1 1 1 1 3 2 1 2 3 2 2 3 1 2 1 2 2 3 2 3 3 2 2 3 3 1 2 2\n",
      " 2 2 1 1 1 1 3 1 3 1 2 1 3 3 3 1 2]\n"
     ]
    }
   ],
   "source": [
    "print(y_test.shape)\n",
    "print(predictions)\n",
    "print(y_test)"
   ]
  },
  {
   "attachments": {},
   "cell_type": "markdown",
   "metadata": {},
   "source": [
    "## use orginal data to train the ANN model"
   ]
  },
  {
   "cell_type": "code",
   "execution_count": 57,
   "metadata": {},
   "outputs": [
    {
     "name": "stdout",
     "output_type": "stream",
     "text": [
      "accuracy for test data under adam:92.59%\n",
      "              precision    recall  f1-score   support\n",
      "\n",
      "           1       0.95      1.00      0.97        19\n",
      "           2       0.85      0.94      0.89        18\n",
      "           3       1.00      0.82      0.90        17\n",
      "\n",
      "    accuracy                           0.93        54\n",
      "   macro avg       0.93      0.92      0.92        54\n",
      "weighted avg       0.93      0.93      0.93        54\n",
      "\n",
      "accuracy for test data under lbfgs:92.59%\n",
      "              precision    recall  f1-score   support\n",
      "\n",
      "           1       0.95      1.00      0.97        19\n",
      "           2       0.85      0.94      0.89        18\n",
      "           3       1.00      0.82      0.90        17\n",
      "\n",
      "    accuracy                           0.93        54\n",
      "   macro avg       0.93      0.92      0.92        54\n",
      "weighted avg       0.93      0.93      0.93        54\n",
      "\n",
      "accuracy for test data under sgd:98.15%\n",
      "              precision    recall  f1-score   support\n",
      "\n",
      "           1       1.00      1.00      1.00        19\n",
      "           2       0.95      1.00      0.97        18\n",
      "           3       1.00      0.94      0.97        17\n",
      "\n",
      "    accuracy                           0.98        54\n",
      "   macro avg       0.98      0.98      0.98        54\n",
      "weighted avg       0.98      0.98      0.98        54\n",
      "\n"
     ]
    }
   ],
   "source": [
    "# hidden_layers = (512,) # one hidden layer \n",
    "# # activation = ’relu’ # the default \n",
    "hidden_layers = (30,)\n",
    "activation = 'logistic'\n",
    "opts = dict(hidden_layer_sizes = hidden_layers, verbose = False, \\\n",
    "        activation = activation, tol = 1e-6, max_iter = int(1e6))\n",
    "# solver = ’sgd’ # not efficient, need more tuning \n",
    "# solver = ’lbfgs’ # not suitable here #適用連續資料\n",
    "# solver = 'adam' # default solver #適用類別資料\n",
    "clf_MLP_adam = MLPClassifier(solver = 'adam', **opts) \n",
    "clf_MLP_lbfgs = MLPClassifier(solver = 'lbfgs', **opts) \n",
    "clf_MLP_sgd = MLPClassifier(solver = 'sgd', **opts) \n",
    "clf_MLP_adam.fit(X_train_, y_train)\n",
    "predictions = clf_MLP_adam.predict(X_test_)\n",
    "print('accuracy for test data under adam:{:.2f}%'.format(100*clf_MLP_adam.score(X_test_,y_test)))\n",
    "print(classification_report(y_test, predictions))\n",
    "clf_MLP_lbfgs.fit(X_train_, y_train)\n",
    "predictions = clf_MLP_lbfgs.predict(X_test_)\n",
    "print('accuracy for test data under lbfgs:{:.2f}%'.format(100*clf_MLP_lbfgs.score(X_test_,y_test)))\n",
    "print(classification_report(y_test, predictions))\n",
    "clf_MLP_sgd.fit(X_train_, y_train)\n",
    "predictions = clf_MLP_sgd.predict(X_test_)\n",
    "print('accuracy for test data under sgd:{:.2f}%'.format(100*clf_MLP_sgd.score(X_test_,y_test)))\n",
    "print(classification_report(y_test, predictions))"
   ]
  },
  {
   "attachments": {},
   "cell_type": "markdown",
   "metadata": {},
   "source": [
    "<sol\\>By contrast,we can notice the sgd algorithm that has best accuracy(98.15%).Beacuse this algorithm add weight in iteration.In my opinion,this is suitable for this condition."
   ]
  },
  {
   "attachments": {},
   "cell_type": "markdown",
   "metadata": {},
   "source": [
    "## use principal component analysis DATA to train LOGISTIC REGRESSION model"
   ]
  },
  {
   "cell_type": "code",
   "execution_count": 58,
   "metadata": {},
   "outputs": [
    {
     "name": "stdout",
     "output_type": "stream",
     "text": [
      "accuracy for test data under lbfgs:96.30%\n",
      "              precision    recall  f1-score   support\n",
      "\n",
      "           1       1.00      1.00      1.00        19\n",
      "           2       0.90      1.00      0.95        18\n",
      "           3       1.00      0.88      0.94        17\n",
      "\n",
      "    accuracy                           0.96        54\n",
      "   macro avg       0.97      0.96      0.96        54\n",
      "weighted avg       0.97      0.96      0.96        54\n",
      "\n",
      "accuracy for test data under liblinear:98.15%\n",
      "              precision    recall  f1-score   support\n",
      "\n",
      "           1       1.00      1.00      1.00        19\n",
      "           2       0.95      1.00      0.97        18\n",
      "           3       1.00      0.94      0.97        17\n",
      "\n",
      "    accuracy                           0.98        54\n",
      "   macro avg       0.98      0.98      0.98        54\n",
      "weighted avg       0.98      0.98      0.98        54\n",
      "\n",
      "accuracy for test data under newtoncg:96.30%\n",
      "              precision    recall  f1-score   support\n",
      "\n",
      "           1       1.00      1.00      1.00        19\n",
      "           2       0.90      1.00      0.95        18\n",
      "           3       1.00      0.88      0.94        17\n",
      "\n",
      "    accuracy                           0.96        54\n",
      "   macro avg       0.97      0.96      0.96        54\n",
      "weighted avg       0.97      0.96      0.96        54\n",
      "\n"
     ]
    }
   ],
   "source": [
    "pca = PCA(n_components = 0.8).fit(X_train_)#n_components = 0.8取80%的能量，或著可以寫成n_components = 10取前十個主成分\n",
    "Z_train = pca.transform(X_train_)\n",
    "Z_test = pca.transform(X_test_)\n",
    "opts = dict(tol = 1e-6, max_iter = int(1e6), verbose=0) \n",
    "clf_PCA_lbfgs = LogisticRegression(solver = 'lbfgs', **opts)#default\n",
    "clf_PCA_liblin = LogisticRegression(solver = 'liblinear', **opts)\n",
    "clf_PCA_newtoncg = LogisticRegression(solver = 'newton-cg', **opts)\n",
    "clf_PCA_lbfgs.fit(Z_train, y_train)\n",
    "y_pred = clf_PCA_lbfgs.predict(Z_test)\n",
    "# print(f'{accuracy_score(y_test, y_pred):.2%}\\n')\n",
    "print('accuracy for test data under lbfgs:{:.2f}%'.format(100*clf_PCA_lbfgs.score(Z_test,y_test)))\n",
    "print(classification_report(y_test, y_pred))\n",
    "clf_PCA_liblin.fit(Z_train, y_train)\n",
    "y_pred = clf_PCA_liblin.predict(Z_test)\n",
    "print('accuracy for test data under liblinear:{:.2f}%'.format(100*clf_PCA_liblin.score(Z_test,y_test)))\n",
    "print(classification_report(y_test, y_pred))\n",
    "clf_PCA_newtoncg.fit(Z_train, y_train)\n",
    "y_pred = clf_PCA_newtoncg.predict(Z_test)\n",
    "print('accuracy for test data under newtoncg:{:.2f}%'.format(100*clf_PCA_newtoncg.score(Z_test,y_test)))\n",
    "print(classification_report(y_test, y_pred))"
   ]
  },
  {
   "attachments": {},
   "cell_type": "markdown",
   "metadata": {},
   "source": [
    "<sol\\>Despit the pca method will loss information.But,liblinear algorithm still has highest percentage(98.15%).Not only it use penalty ,but also can handel high-dimensional features.Otherwise,newtoncg and lbfgs are developed by newton method."
   ]
  },
  {
   "attachments": {},
   "cell_type": "markdown",
   "metadata": {},
   "source": [
    "## use PCA data to train the support vector machine model"
   ]
  },
  {
   "cell_type": "code",
   "execution_count": 59,
   "metadata": {},
   "outputs": [
    {
     "name": "stdout",
     "output_type": "stream",
     "text": [
      "accuracy for test data under linear:96.30%\n",
      "              precision    recall  f1-score   support\n",
      "\n",
      "           1       1.00      1.00      1.00        19\n",
      "           2       0.90      1.00      0.95        18\n",
      "           3       1.00      0.88      0.94        17\n",
      "\n",
      "    accuracy                           0.96        54\n",
      "   macro avg       0.97      0.96      0.96        54\n",
      "weighted avg       0.97      0.96      0.96        54\n",
      "\n",
      "accuracy for test data under rbf:96.30%\n",
      "              precision    recall  f1-score   support\n",
      "\n",
      "           1       1.00      1.00      1.00        19\n",
      "           2       0.90      1.00      0.95        18\n",
      "           3       1.00      0.88      0.94        17\n",
      "\n",
      "    accuracy                           0.96        54\n",
      "   macro avg       0.97      0.96      0.96        54\n",
      "weighted avg       0.97      0.96      0.96        54\n",
      "\n",
      "accuracy for test data under poly:83.33%\n",
      "              precision    recall  f1-score   support\n",
      "\n",
      "           1       1.00      0.79      0.88        19\n",
      "           2       0.67      1.00      0.80        18\n",
      "           3       1.00      0.71      0.83        17\n",
      "\n",
      "    accuracy                           0.83        54\n",
      "   macro avg       0.89      0.83      0.84        54\n",
      "weighted avg       0.89      0.83      0.84        54\n",
      "\n"
     ]
    }
   ],
   "source": [
    "C=1\n",
    "opts=dict(C=C,tol=1e-6,max_iter=int(1e6))\n",
    "# opts=dict(C=C,decision_function_shape='ovo',tol=1e-6,max_iter=int(1e6))\n",
    "clf_svm_pca_linear=SVC(kernel='linear',**opts)\n",
    "clf_svm_pca_rbf=SVC(kernel='rbf',gamma=0.2,**opts)\n",
    "clf_svm_pca_poly=SVC(kernel='poly',degree=3,**opts)\n",
    "# clf_svm=LinearSVC(**opts) #one vs the rest\n",
    "clf_svm_pca_linear.fit(Z_train,y_train)\n",
    "predictions=clf_svm_pca_linear.predict(Z_test)\n",
    "print('accuracy for test data under linear:{:.2f}%'.format(100*clf_svm_pca_linear.score(Z_test,y_test)))\n",
    "print(classification_report(y_test,predictions))\n",
    "clf_svm_pca_rbf.fit(Z_train,y_train)\n",
    "predictions=clf_svm_pca_rbf.predict(Z_test)\n",
    "print('accuracy for test data under rbf:{:.2f}%'.format(100*clf_svm_pca_rbf.score(Z_test,y_test)))\n",
    "print(classification_report(y_test,predictions))\n",
    "clf_svm_pca_poly.fit(Z_train,y_train)\n",
    "predictions=clf_svm_pca_poly.predict(Z_test)\n",
    "print('accuracy for test data under poly:{:.2f}%'.format(100*clf_svm_pca_poly.score(Z_test,y_test)))\n",
    "print(classification_report(y_test,predictions))"
   ]
  },
  {
   "attachments": {},
   "cell_type": "markdown",
   "metadata": {},
   "source": [
    "<sol\\>After we use pca method,rank of three kernel function is different to original data.As we can seen,data reduction will  influence the rank.Rbf and linear get the first,following poly.Beside,I think that I don't use cross validation to choose paramether 'd',so the parameter 'd' is not suitable for this data. "
   ]
  },
  {
   "attachments": {},
   "cell_type": "markdown",
   "metadata": {},
   "source": [
    "## use PCA data to train the ANN model"
   ]
  },
  {
   "cell_type": "code",
   "execution_count": 60,
   "metadata": {},
   "outputs": [
    {
     "name": "stdout",
     "output_type": "stream",
     "text": [
      "accuracy for test data under adam:98.15%\n",
      "              precision    recall  f1-score   support\n",
      "\n",
      "           1       1.00      1.00      1.00        19\n",
      "           2       0.95      1.00      0.97        18\n",
      "           3       1.00      0.94      0.97        17\n",
      "\n",
      "    accuracy                           0.98        54\n",
      "   macro avg       0.98      0.98      0.98        54\n",
      "weighted avg       0.98      0.98      0.98        54\n",
      "\n",
      "accuracy for test data under lbfgs:96.30%\n",
      "              precision    recall  f1-score   support\n",
      "\n",
      "           1       1.00      1.00      1.00        19\n",
      "           2       0.90      1.00      0.95        18\n",
      "           3       1.00      0.88      0.94        17\n",
      "\n",
      "    accuracy                           0.96        54\n",
      "   macro avg       0.97      0.96      0.96        54\n",
      "weighted avg       0.97      0.96      0.96        54\n",
      "\n",
      "accuracy for test data under sgd:98.15%\n",
      "              precision    recall  f1-score   support\n",
      "\n",
      "           1       1.00      1.00      1.00        19\n",
      "           2       0.95      1.00      0.97        18\n",
      "           3       1.00      0.94      0.97        17\n",
      "\n",
      "    accuracy                           0.98        54\n",
      "   macro avg       0.98      0.98      0.98        54\n",
      "weighted avg       0.98      0.98      0.98        54\n",
      "\n"
     ]
    }
   ],
   "source": [
    "# hidden_layers = (512,) # one hidden layer \n",
    "# # activation = ’relu’ # the default \n",
    "hidden_layers = (30,)\n",
    "activation = 'logistic'\n",
    "opts = dict(hidden_layer_sizes = hidden_layers, verbose = False, \\\n",
    "        activation = activation, tol = 1e-6, max_iter = int(1e6))\n",
    "# solver = ’sgd’ # not efficient, need more tuning \n",
    "# solver = ’lbfgs’ # not suitable here #suit for continuous data\n",
    "# solver = 'adam' # default solver #suit for category data\n",
    "clf_MLP_pca_adam = MLPClassifier(solver = 'adam', **opts) \n",
    "clf_MLP_pca_lbfgs = MLPClassifier(solver = 'lbfgs', **opts) \n",
    "clf_MLP_pca_sgd = MLPClassifier(solver = 'sgd', **opts) \n",
    "clf_MLP_pca_adam.fit(Z_train, y_train)\n",
    "predictions = clf_MLP_pca_adam.predict(Z_test)\n",
    "print('accuracy for test data under adam:{:.2f}%'.format(100*clf_MLP_pca_adam.score(Z_test,y_test)))\n",
    "print(classification_report(y_test, predictions))\n",
    "clf_MLP_pca_lbfgs.fit(Z_train, y_train)\n",
    "predictions = clf_MLP_pca_lbfgs.predict(Z_test)\n",
    "print('accuracy for test data under lbfgs:{:.2f}%'.format(100*clf_MLP_pca_lbfgs.score(Z_test,y_test)))\n",
    "print(classification_report(y_test, predictions))\n",
    "clf_MLP_pca_sgd.fit(Z_train, y_train)\n",
    "predictions = clf_MLP_pca_sgd.predict(Z_test)\n",
    "print('accuracy for test data under sgd:{:.2f}%'.format(100*clf_MLP_pca_sgd.score(Z_test,y_test)))\n",
    "print(classification_report(y_test, predictions))"
   ]
  },
  {
   "attachments": {},
   "cell_type": "markdown",
   "metadata": {},
   "source": [
    "<sol\\>In this case,sgd and adam algorithm have highest percentage(98.15%).Because,the Adam algorithm is based on the first-order moment estimate of gradients, also known as momentum, and the second-order moment estimate of gradients.It always presents high accuracy."
   ]
  }
 ],
 "metadata": {
  "interpreter": {
   "hash": "aee8b7b246df8f9039afb4144a1f6fd8d2ca17a180786b69acc140d282b71a49"
  },
  "kernelspec": {
   "display_name": "Python 3.10.4 64-bit",
   "language": "python",
   "name": "python3"
  },
  "language_info": {
   "codemirror_mode": {
    "name": "ipython",
    "version": 3
   },
   "file_extension": ".py",
   "mimetype": "text/x-python",
   "name": "python",
   "nbconvert_exporter": "python",
   "pygments_lexer": "ipython3",
   "version": "3.10.4"
  },
  "orig_nbformat": 4
 },
 "nbformat": 4,
 "nbformat_minor": 2
}
