{
 "cells": [
  {
   "cell_type": "code",
   "execution_count": 1,
   "metadata": {},
   "outputs": [
    {
     "name": "stdout",
     "output_type": "stream",
     "text": [
      "Input image shape is  (28, 28, 3)\n"
     ]
    },
    {
     "data": {
      "text/plain": [
       "<matplotlib.image.AxesImage at 0x11b4acfd0>"
      ]
     },
     "execution_count": 1,
     "metadata": {},
     "output_type": "execute_result"
    },
    {
     "data": {
      "image/png": "[encoded data removed]",
      "text/plain": [
       "<Figure size 432x288 with 1 Axes>"
      ]
     },
     "metadata": {
      "needs_background": "light"
     },
     "output_type": "display_data"
    }
   ],
   "source": [
    "import matplotlib.pyplot as plt\n",
    "import numpy as np\n",
    "from matplotlib.pyplot import imshow\n",
    "img_path='/Users/liang/Downloads/500_each_EMNIST-based-Roman/train/i/1_cap_1.png'\n",
    "img=plt.imread(img_path)\n",
    "print ('Input image shape is ',img.shape)\n",
    "plt.axis('off')\n",
    "imshow(img)"
   ]
  },
  {
   "cell_type": "code",
   "execution_count": 11,
   "metadata": {},
   "outputs": [],
   "source": [
    "import os\n",
    "import pandas as pd\n",
    "def print_in_color(txt_msg,fore_tupple,back_tupple,):\n",
    "    #prints the text_msg in the foreground color specified by fore_tupple with the background specified by back_tupple \n",
    "    #text_msg is the text, fore_tupple is foregroud color tupple (r,g,b), back_tupple is background tupple (r,g,b)\n",
    "    rf,gf,bf=fore_tupple\n",
    "    rb,gb,bb=back_tupple\n",
    "    msg='{0}' + txt_msg\n",
    "    mat='\\33[38;2;' + str(rf) +';' + str(gf) + ';' + str(bf) + ';48;2;' + str(rb) + ';' +str(gb) + ';' + str(bb) +'m' \n",
    "    print(msg .format(mat), flush=True)\n",
    "    print('\\33[0m', flush=True) # returns default print color to back to black\n",
    "    return\n",
    "# -----------------------------------------------------\n",
    "def preprocess (sdir):\n",
    "    categories=['train', 'test', 'val']\n",
    "    for category in categories:\n",
    "        catpath=os.path.join(sdir, category)\n",
    "        filepaths=[]\n",
    "        labels=[]    \n",
    "        classlist=os.listdir(catpath)\n",
    "        for klass in classlist:\n",
    "            classpath=os.path.join(catpath,klass)\n",
    "            flist=os.listdir(classpath)\n",
    "            for f in flist:\n",
    "                fpath=os.path.join(classpath,f)\n",
    "                filepaths.append(fpath)\n",
    "                labels.append(klass)\n",
    "        Fseries=pd.Series(filepaths, name='filepaths')\n",
    "        Lseries=pd.Series(labels, name='labels')\n",
    "        if category == 'train':\n",
    "            train_df=pd.concat([Fseries, Lseries], axis=1)            \n",
    "        elif category =='test':\n",
    "            test_df=pd.concat([Fseries, Lseries], axis=1) \n",
    "        else:\n",
    "            valid_df= pd.concat([Fseries, Lseries], axis=1)     \n",
    "    print('train_df length: ', len(train_df), '  test_df length: ',len(test_df), '  valid_df length: ', len(valid_df))\n",
    "     # check that each dataframe has the same number of classes to prevent model.fit errors\n",
    "    trcount=len(train_df['labels'].unique())\n",
    "    tecount=len(test_df['labels'].unique())\n",
    "    vcount=len(valid_df['labels'].unique())\n",
    "    if trcount < tecount :         \n",
    "        msg='** WARNING ** number of classes in training set is less than the number of classes in test set'\n",
    "        print_in_color(msg, (255,0,0), (55,65,80))\n",
    "        msg='This will throw an error in either model.evaluate or model.predict'\n",
    "        print_in_color(msg, (255,0,0), (55,65,80))\n",
    "    if trcount != vcount:\n",
    "        msg='** WARNING ** number of classes in training set not equal to number of classes in validation set' \n",
    "        print_in_color(msg, (255,0,0), (55,65,80))\n",
    "        msg=' this will throw an error in model.fit'\n",
    "        print_in_color(msg, (255,0,0), (55,65,80))\n",
    "        print ('train df class count: ', trcount, 'test df class count: ', tecount, ' valid df class count: ', vcount) \n",
    "        ans=input('Enter C to continue execution or H to halt execution')\n",
    "        if ans =='H' or ans == 'h':\n",
    "            print_in_color('Halting Execution', (255,0,0), (55,65,80))\n",
    "            import sys\n",
    "            sys.exit('program halted by user')\n",
    "    msg='Below is image count per class to evaluate train_df balance'\n",
    "    print_in_color(msg, (0,255,255),(55,65,80))\n",
    "    print(list(train_df['labels'].value_counts()))\n",
    "    return train_df, test_df, valid_df"
   ]
  },
  {
   "cell_type": "code",
   "execution_count": 12,
   "metadata": {},
   "outputs": [
    {
     "ename": "NotADirectoryError",
     "evalue": "[Errno 20] Not a directory: '/Users/liang/Downloads/500_each_EMNIST-based-Roman/train/.DS_Store'",
     "output_type": "error",
     "traceback": [
      "\u001b[0;31m---------------------------------------------------------------------------\u001b[0m",
      "\u001b[0;31mNotADirectoryError\u001b[0m                        Traceback (most recent call last)",
      "\u001b[1;32mUntitled-1.ipynb Cell 3'\u001b[0m in \u001b[0;36m<cell line: 3>\u001b[0;34m()\u001b[0m\n\u001b[1;32m      <a href='vscode-notebook-cell:Untitled-1.ipynb?jupyter-notebook#ch0000003untitled?line=0'>1</a>\u001b[0m \u001b[39m# sdir='/Users/liang/Downloads/500_each_EMNIST-based-Roman'\u001b[39;00m\n\u001b[1;32m      <a href='vscode-notebook-cell:Untitled-1.ipynb?jupyter-notebook#ch0000003untitled?line=1'>2</a>\u001b[0m sdir\u001b[39m=\u001b[39m\u001b[39m'\u001b[39m\u001b[39m/Users/liang/Downloads/500_each_EMNIST-based-Roman\u001b[39m\u001b[39m'\u001b[39m\n\u001b[0;32m----> <a href='vscode-notebook-cell:Untitled-1.ipynb?jupyter-notebook#ch0000003untitled?line=2'>3</a>\u001b[0m train_df, test_df, valid_df\u001b[39m=\u001b[39m preprocess(sdir)\n",
      "\u001b[1;32mUntitled-1.ipynb Cell 2'\u001b[0m in \u001b[0;36mpreprocess\u001b[0;34m(sdir)\u001b[0m\n\u001b[1;32m     <a href='vscode-notebook-cell:Untitled-1.ipynb?jupyter-notebook#ch0000001untitled?line=20'>21</a>\u001b[0m \u001b[39mfor\u001b[39;00m klass \u001b[39min\u001b[39;00m classlist:\n\u001b[1;32m     <a href='vscode-notebook-cell:Untitled-1.ipynb?jupyter-notebook#ch0000001untitled?line=21'>22</a>\u001b[0m     classpath\u001b[39m=\u001b[39mos\u001b[39m.\u001b[39mpath\u001b[39m.\u001b[39mjoin(catpath,klass)\n\u001b[0;32m---> <a href='vscode-notebook-cell:Untitled-1.ipynb?jupyter-notebook#ch0000001untitled?line=22'>23</a>\u001b[0m     flist\u001b[39m=\u001b[39mos\u001b[39m.\u001b[39;49mlistdir(classpath)\n\u001b[1;32m     <a href='vscode-notebook-cell:Untitled-1.ipynb?jupyter-notebook#ch0000001untitled?line=23'>24</a>\u001b[0m     \u001b[39mfor\u001b[39;00m f \u001b[39min\u001b[39;00m flist:\n\u001b[1;32m     <a href='vscode-notebook-cell:Untitled-1.ipynb?jupyter-notebook#ch0000001untitled?line=24'>25</a>\u001b[0m         fpath\u001b[39m=\u001b[39mos\u001b[39m.\u001b[39mpath\u001b[39m.\u001b[39mjoin(classpath,f)\n",
      "\u001b[0;31mNotADirectoryError\u001b[0m: [Errno 20] Not a directory: '/Users/liang/Downloads/500_each_EMNIST-based-Roman/train/.DS_Store'"
     ]
    }
   ],
   "source": [
    "# sdir='/Users/liang/Downloads/500_each_EMNIST-based-Roman'\n",
    "sdir='/Users/liang/Downloads/500_each_EMNIST-based-Roman'\n",
    "train_df, test_df, valid_df= preprocess(sdir)\n"
   ]
  },
  {
   "cell_type": "code",
   "execution_count": 20,
   "metadata": {},
   "outputs": [
    {
     "ename": "ModuleNotFoundError",
     "evalue": "No module named 'tensorflow'",
     "output_type": "error",
     "traceback": [
      "\u001b[0;31m---------------------------------------------------------------------------\u001b[0m",
      "\u001b[0;31mModuleNotFoundError\u001b[0m                       Traceback (most recent call last)",
      "\u001b[1;32mUntitled-1.ipynb Cell 4'\u001b[0m in \u001b[0;36m<cell line: 1>\u001b[0;34m()\u001b[0m\n\u001b[0;32m----> <a href='vscode-notebook-cell:Untitled-1.ipynb?jupyter-notebook#ch0000002untitled?line=0'>1</a>\u001b[0m \u001b[39mfrom\u001b[39;00m \u001b[39mtensorflow\u001b[39;00m\u001b[39m.\u001b[39;00m\u001b[39mkeras\u001b[39;00m\u001b[39m.\u001b[39;00m\u001b[39mpreprocessing\u001b[39;00m\u001b[39m.\u001b[39;00m\u001b[39mimage\u001b[39;00m \u001b[39mimport\u001b[39;00m ImageDataGenerator\n\u001b[1;32m      <a href='vscode-notebook-cell:Untitled-1.ipynb?jupyter-notebook#ch0000002untitled?line=1'>2</a>\u001b[0m working_dir \u001b[39m=\u001b[39m \u001b[39mr\u001b[39m\u001b[39m'\u001b[39m\u001b[39m./\u001b[39m\u001b[39m'\u001b[39m\n\u001b[1;32m      <a href='vscode-notebook-cell:Untitled-1.ipynb?jupyter-notebook#ch0000002untitled?line=2'>3</a>\u001b[0m img_size\u001b[39m=\u001b[39m(\u001b[39m40\u001b[39m,\u001b[39m40\u001b[39m)\n",
      "\u001b[0;31mModuleNotFoundError\u001b[0m: No module named 'tensorflow'"
     ]
    }
   ],
   "source": [
    "from tensorflow.keras.preprocessing.image import ImageDataGenerator\n",
    "working_dir = r'./'\n",
    "img_size=(40,40)\n",
    "channels=3\n",
    "batch_size=30\n",
    "img_shape=(img_size[0], img_size[1], channels)\n",
    "length=len(test_df)\n",
    "test_batch_size=sorted([int(length/n) for n in range(1,length+1) if length % n ==0 and length/n<=80],reverse=True)[0]  \n",
    "test_steps=int(length/test_batch_size)\n",
    "print ( 'test batch size: ' ,test_batch_size, '  test steps: ', test_steps)\n",
    "def scalar(img):    \n",
    "    return img  # EfficientNet expects pixelsin range 0 to 255 so no scaling is required\n",
    "trgen=ImageDataGenerator(preprocessing_function=scalar, horizontal_flip=True)\n",
    "tvgen=ImageDataGenerator(preprocessing_function=scalar)\n",
    "msg='                                                                for the train generator'\n",
    "print(msg, '\\r', end='') \n",
    "train_gen=trgen.flow_from_dataframe( train_df, x_col='filepaths', y_col='labels', target_size=img_size, class_mode='categorical',\n",
    "                                    color_mode='rgb', shuffle=True, batch_size=batch_size)\n",
    "msg='                                                               for the test generator'\n",
    "print(msg, '\\r', end='') \n",
    "test_gen=tvgen.flow_from_dataframe( test_df, x_col='filepaths', y_col='labels', target_size=img_size, class_mode='categorical',\n",
    "                                    color_mode='rgb', shuffle=False, batch_size=test_batch_size)\n",
    "msg='                                                               for the validation generator'\n",
    "print(msg, '\\r', end='')\n",
    "valid_gen=tvgen.flow_from_dataframe( valid_df, x_col='filepaths', y_col='labels', target_size=img_size, class_mode='categorical',\n",
    "                                    color_mode='rgb', shuffle=True, batch_size=batch_size)\n",
    "classes=list(train_gen.class_indices.keys())\n",
    "class_count=len(classes)\n",
    "train_steps=int(np.ceil(len(train_gen.labels)/batch_size))\n",
    "labels=test_gen.labels"
   ]
  },
  {
   "cell_type": "code",
   "execution_count": 22,
   "metadata": {},
   "outputs": [
    {
     "name": "stdout",
     "output_type": "stream",
     "text": [
      "232\n"
     ]
    }
   ],
   "source": [
    "import os \n",
    "DIR = '/Users/liang/Downloads/Raw Handwritten Roman Numerals Dataset/train/vi' #要統計的資料夾\n",
    "print (len([name for name in os.listdir(DIR) if os.path.isfile(os.path.join(DIR, name))]))"
   ]
  },
  {
   "cell_type": "code",
   "execution_count": 26,
   "metadata": {},
   "outputs": [
    {
     "name": "stdout",
     "output_type": "stream",
     "text": [
      "['vi', 'ii', 'i', 'vii', 'viii', 'iv', 'ix', 'v', 'x', 'iii']\n"
     ]
    },
    {
     "name": "stderr",
     "output_type": "stream",
     "text": [
      "/var/folders/bt/lzds7c0956d278lsqrjn3ql00000gn/T/ipykernel_4913/1823670490.py:17: DeprecationWarning: Starting with ImageIO v3 the behavior of this function will switch to that of iio.v3.imread. To keep the current behavior (and make this warning disappear) use `import imageio.v2 as imageio` or call `imageio.v2.imread` directly.\n",
      "  img1 = imageio.imread(image_dir)  # 读取images中每个子文件夹中的图片\n"
     ]
    },
    {
     "name": "stdout",
     "output_type": "stream",
     "text": [
      "2321\n"
     ]
    },
    {
     "data": {
      "text/plain": [
       "array([173., 175., 172., ..., 211., 216., 210.])"
      ]
     },
     "execution_count": 26,
     "metadata": {},
     "output_type": "execute_result"
    }
   ],
   "source": [
    "#!/usr/bin/python\n",
    "# -*- coding: UTF-8 -*-\n",
    "import pandas as pd\n",
    "import os\n",
    "import imageio\n",
    "# 打开文件\n",
    "path = \"/Users/liang/Downloads/Raw Handwritten Roman Numerals Dataset/train\"\n",
    "dirs = os.listdir( path )\n",
    "dirs.remove('.DS_Store')\n",
    "print(dirs)  # 输出所有子文件和文件夹\n",
    "abc=pd.DataFrame()\n",
    "count=0\n",
    "for file in dirs:\n",
    "   pic_dir=os.path.join(path,file)  #images中子文件夹的路径\n",
    "   for i in os.listdir(pic_dir):\n",
    "      image_dir=os.path.join(pic_dir,i)  #images中每个子文件夹中图片的路径\n",
    "      img1 = imageio.imread(image_dir)  # 读取images中每个子文件夹中的图片\n",
    "      abc=np.append(abc,img1)\n",
    "      count+=1\n",
    "      # print(image_dir)#输出图片的路径\n",
    "      # print(img1)#输出图片\n",
    "print(count)#图片个数\n",
    "abc"
   ]
  },
  {
   "cell_type": "code",
   "execution_count": 27,
   "metadata": {},
   "outputs": [
    {
     "ename": "IndexError",
     "evalue": "only integers, slices (`:`), ellipsis (`...`), numpy.newaxis (`None`) and integer or boolean arrays are valid indices",
     "output_type": "error",
     "traceback": [
      "\u001b[0;31m---------------------------------------------------------------------------\u001b[0m",
      "\u001b[0;31mIndexError\u001b[0m                                Traceback (most recent call last)",
      "\u001b[1;32mUntitled-1.ipynb Cell 7'\u001b[0m in \u001b[0;36m<cell line: 7>\u001b[0;34m()\u001b[0m\n\u001b[1;32m      <a href='vscode-notebook-cell:Untitled-1.ipynb?jupyter-notebook#ch0000006untitled?line=1'>2</a>\u001b[0m \u001b[39mfrom\u001b[39;00m \u001b[39msklearn\u001b[39;00m\u001b[39m.\u001b[39;00m\u001b[39mdatasets\u001b[39;00m \u001b[39mimport\u001b[39;00m fetch_openml\n\u001b[1;32m      <a href='vscode-notebook-cell:Untitled-1.ipynb?jupyter-notebook#ch0000006untitled?line=2'>3</a>\u001b[0m \u001b[39m# data_dir = '../Data/'\u001b[39;00m\n\u001b[1;32m      <a href='vscode-notebook-cell:Untitled-1.ipynb?jupyter-notebook#ch0000006untitled?line=3'>4</a>\u001b[0m \u001b[39m# X,y=fetch_openml('mnist_748,return_X_y')\u001b[39;00m\n\u001b[1;32m      <a href='vscode-notebook-cell:Untitled-1.ipynb?jupyter-notebook#ch0000006untitled?line=4'>5</a>\u001b[0m \u001b[39m# D = loadmat('/Users/liang/Downloads/Letters_train.mat') \u001b[39;00m\n\u001b[1;32m      <a href='vscode-notebook-cell:Untitled-1.ipynb?jupyter-notebook#ch0000006untitled?line=5'>6</a>\u001b[0m \u001b[39m# D.keys()\u001b[39;00m\n\u001b[0;32m----> <a href='vscode-notebook-cell:Untitled-1.ipynb?jupyter-notebook#ch0000006untitled?line=6'>7</a>\u001b[0m X \u001b[39m=\u001b[39m abc[\u001b[39m'\u001b[39;49m\u001b[39mX\u001b[39;49m\u001b[39m'\u001b[39;49m] \u001b[39m# images\u001b[39;00m\n\u001b[1;32m      <a href='vscode-notebook-cell:Untitled-1.ipynb?jupyter-notebook#ch0000006untitled?line=7'>8</a>\u001b[0m y \u001b[39m=\u001b[39m abc[\u001b[39m'\u001b[39m\u001b[39my\u001b[39m\u001b[39m'\u001b[39m] \u001b[39m# labels: single output in 0~9\u001b[39;00m\n\u001b[1;32m      <a href='vscode-notebook-cell:Untitled-1.ipynb?jupyter-notebook#ch0000006untitled?line=8'>9</a>\u001b[0m plt\u001b[39m.\u001b[39mfigure(figsize \u001b[39m=\u001b[39m (\u001b[39m9\u001b[39m,\u001b[39m6\u001b[39m))\n",
      "\u001b[0;31mIndexError\u001b[0m: only integers, slices (`:`), ellipsis (`...`), numpy.newaxis (`None`) and integer or boolean arrays are valid indices"
     ]
    }
   ],
   "source": [
    "from scipy.io import loadmat\n",
    "from sklearn.datasets import fetch_openml\n",
    "# data_dir = '../Data/'\n",
    "# X,y=fetch_openml('mnist_748,return_X_y')\n",
    "# D = loadmat('/Users/liang/Downloads/Letters_train.mat') \n",
    "# D.keys()\n",
    "X = abc['X'] # images\n",
    "y = abc['y'] # labels: single output in 0~9\n",
    "plt.figure(figsize = (9,6))\n",
    "# prepare and diaplay a montage of digit images n,m=20,30 #Anxmmontage(totalmnimages)\n",
    "n,m=20,30\n",
    "sz = np.sqrt(X.shape[1]).astype('int') # image size sz x sz M = np.zeros((m*sz, n*sz)) # montage image\n",
    "M=np.zeros((m*sz,n*sz))\n",
    "A = np.array(X)[:m*n,:] # show the first nm images\n",
    "# Arrange images to form a montage\n",
    "for i in range(m) :\n",
    "    for j in range(n) :\n",
    "        M[i*sz: (i+1)*sz, j*sz:(j+1)*sz] = \\\n",
    "            A[i*n+j,:].reshape(sz, sz)\n",
    "\n",
    "plt.imshow(M.T, cmap = plt.cm.gray_r, \\\n",
    "        interpolation = 'nearest')\n",
    "plt.xticks([])\n",
    "plt.yticks([])\n",
    "plt.title('The Montage of handwriting digits')\n",
    "plt.show()"
   ]
  }
 ],
 "metadata": {
  "interpreter": {
   "hash": "aee8b7b246df8f9039afb4144a1f6fd8d2ca17a180786b69acc140d282b71a49"
  },
  "kernelspec": {
   "display_name": "Python 3.10.4 64-bit",
   "language": "python",
   "name": "python3"
  },
  "language_info": {
   "codemirror_mode": {
    "name": "ipython",
    "version": 3
   },
   "file_extension": ".py",
   "mimetype": "text/x-python",
   "name": "python",
   "nbconvert_exporter": "python",
   "pygments_lexer": "ipython3",
   "version": "3.10.4"
  },
  "orig_nbformat": 4
 },
 "nbformat": 4,
 "nbformat_minor": 2
}
